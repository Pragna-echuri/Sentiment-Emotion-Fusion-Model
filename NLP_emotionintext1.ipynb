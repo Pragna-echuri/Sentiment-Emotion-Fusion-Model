{
 "cells": [
  {
   "cell_type": "code",
   "execution_count": 4,
   "id": "1a5f9cbf-f731-4c7c-911d-f87ca19537a5",
   "metadata": {},
   "outputs": [
    {
     "data": {
      "text/html": [
       "<div>\n",
       "<style scoped>\n",
       "    .dataframe tbody tr th:only-of-type {\n",
       "        vertical-align: middle;\n",
       "    }\n",
       "\n",
       "    .dataframe tbody tr th {\n",
       "        vertical-align: top;\n",
       "    }\n",
       "\n",
       "    .dataframe thead th {\n",
       "        text-align: right;\n",
       "    }\n",
       "</style>\n",
       "<table border=\"1\" class=\"dataframe\">\n",
       "  <thead>\n",
       "    <tr style=\"text-align: right;\">\n",
       "      <th></th>\n",
       "      <th>id</th>\n",
       "      <th>text</th>\n",
       "      <th>example_very_unclear</th>\n",
       "      <th>admiration</th>\n",
       "      <th>amusement</th>\n",
       "      <th>anger</th>\n",
       "      <th>annoyance</th>\n",
       "      <th>approval</th>\n",
       "      <th>caring</th>\n",
       "      <th>confusion</th>\n",
       "      <th>...</th>\n",
       "      <th>love</th>\n",
       "      <th>nervousness</th>\n",
       "      <th>optimism</th>\n",
       "      <th>pride</th>\n",
       "      <th>realization</th>\n",
       "      <th>relief</th>\n",
       "      <th>remorse</th>\n",
       "      <th>sadness</th>\n",
       "      <th>surprise</th>\n",
       "      <th>neutral</th>\n",
       "    </tr>\n",
       "  </thead>\n",
       "  <tbody>\n",
       "    <tr>\n",
       "      <th>0</th>\n",
       "      <td>eew5j0j</td>\n",
       "      <td>That game hurt.</td>\n",
       "      <td>False</td>\n",
       "      <td>0</td>\n",
       "      <td>0</td>\n",
       "      <td>0</td>\n",
       "      <td>0</td>\n",
       "      <td>0</td>\n",
       "      <td>0</td>\n",
       "      <td>0</td>\n",
       "      <td>...</td>\n",
       "      <td>0</td>\n",
       "      <td>0</td>\n",
       "      <td>0</td>\n",
       "      <td>0</td>\n",
       "      <td>0</td>\n",
       "      <td>0</td>\n",
       "      <td>0</td>\n",
       "      <td>1</td>\n",
       "      <td>0</td>\n",
       "      <td>0</td>\n",
       "    </tr>\n",
       "    <tr>\n",
       "      <th>1</th>\n",
       "      <td>eemcysk</td>\n",
       "      <td>&gt;sexuality shouldn’t be a grouping category I...</td>\n",
       "      <td>True</td>\n",
       "      <td>0</td>\n",
       "      <td>0</td>\n",
       "      <td>0</td>\n",
       "      <td>0</td>\n",
       "      <td>0</td>\n",
       "      <td>0</td>\n",
       "      <td>0</td>\n",
       "      <td>...</td>\n",
       "      <td>0</td>\n",
       "      <td>0</td>\n",
       "      <td>0</td>\n",
       "      <td>0</td>\n",
       "      <td>0</td>\n",
       "      <td>0</td>\n",
       "      <td>0</td>\n",
       "      <td>0</td>\n",
       "      <td>0</td>\n",
       "      <td>0</td>\n",
       "    </tr>\n",
       "    <tr>\n",
       "      <th>2</th>\n",
       "      <td>ed2mah1</td>\n",
       "      <td>You do right, if you don't care then fuck 'em!</td>\n",
       "      <td>False</td>\n",
       "      <td>0</td>\n",
       "      <td>0</td>\n",
       "      <td>0</td>\n",
       "      <td>0</td>\n",
       "      <td>0</td>\n",
       "      <td>0</td>\n",
       "      <td>0</td>\n",
       "      <td>...</td>\n",
       "      <td>0</td>\n",
       "      <td>0</td>\n",
       "      <td>0</td>\n",
       "      <td>0</td>\n",
       "      <td>0</td>\n",
       "      <td>0</td>\n",
       "      <td>0</td>\n",
       "      <td>0</td>\n",
       "      <td>0</td>\n",
       "      <td>1</td>\n",
       "    </tr>\n",
       "    <tr>\n",
       "      <th>3</th>\n",
       "      <td>eeibobj</td>\n",
       "      <td>Man I love reddit.</td>\n",
       "      <td>False</td>\n",
       "      <td>0</td>\n",
       "      <td>0</td>\n",
       "      <td>0</td>\n",
       "      <td>0</td>\n",
       "      <td>0</td>\n",
       "      <td>0</td>\n",
       "      <td>0</td>\n",
       "      <td>...</td>\n",
       "      <td>1</td>\n",
       "      <td>0</td>\n",
       "      <td>0</td>\n",
       "      <td>0</td>\n",
       "      <td>0</td>\n",
       "      <td>0</td>\n",
       "      <td>0</td>\n",
       "      <td>0</td>\n",
       "      <td>0</td>\n",
       "      <td>0</td>\n",
       "    </tr>\n",
       "    <tr>\n",
       "      <th>4</th>\n",
       "      <td>eda6yn6</td>\n",
       "      <td>[NAME] was nowhere near them, he was by the Fa...</td>\n",
       "      <td>False</td>\n",
       "      <td>0</td>\n",
       "      <td>0</td>\n",
       "      <td>0</td>\n",
       "      <td>0</td>\n",
       "      <td>0</td>\n",
       "      <td>0</td>\n",
       "      <td>0</td>\n",
       "      <td>...</td>\n",
       "      <td>0</td>\n",
       "      <td>0</td>\n",
       "      <td>0</td>\n",
       "      <td>0</td>\n",
       "      <td>0</td>\n",
       "      <td>0</td>\n",
       "      <td>0</td>\n",
       "      <td>0</td>\n",
       "      <td>0</td>\n",
       "      <td>1</td>\n",
       "    </tr>\n",
       "  </tbody>\n",
       "</table>\n",
       "<p>5 rows × 31 columns</p>\n",
       "</div>"
      ],
      "text/plain": [
       "        id                                               text  \\\n",
       "0  eew5j0j                                    That game hurt.   \n",
       "1  eemcysk   >sexuality shouldn’t be a grouping category I...   \n",
       "2  ed2mah1     You do right, if you don't care then fuck 'em!   \n",
       "3  eeibobj                                 Man I love reddit.   \n",
       "4  eda6yn6  [NAME] was nowhere near them, he was by the Fa...   \n",
       "\n",
       "   example_very_unclear  admiration  amusement  anger  annoyance  approval  \\\n",
       "0                 False           0          0      0          0         0   \n",
       "1                  True           0          0      0          0         0   \n",
       "2                 False           0          0      0          0         0   \n",
       "3                 False           0          0      0          0         0   \n",
       "4                 False           0          0      0          0         0   \n",
       "\n",
       "   caring  confusion  ...  love  nervousness  optimism  pride  realization  \\\n",
       "0       0          0  ...     0            0         0      0            0   \n",
       "1       0          0  ...     0            0         0      0            0   \n",
       "2       0          0  ...     0            0         0      0            0   \n",
       "3       0          0  ...     1            0         0      0            0   \n",
       "4       0          0  ...     0            0         0      0            0   \n",
       "\n",
       "   relief  remorse  sadness  surprise  neutral  \n",
       "0       0        0        1         0        0  \n",
       "1       0        0        0         0        0  \n",
       "2       0        0        0         0        1  \n",
       "3       0        0        0         0        0  \n",
       "4       0        0        0         0        1  \n",
       "\n",
       "[5 rows x 31 columns]"
      ]
     },
     "execution_count": 4,
     "metadata": {},
     "output_type": "execute_result"
    }
   ],
   "source": [
    "import pandas as pd\n",
    "\n",
    "# Load the dataset\n",
    "df = pd.read_csv(\"go_emotions_dataset.csv\") \n",
    "df.head()"
   ]
  },
  {
   "cell_type": "code",
   "execution_count": 2,
   "id": "2ba905a6-65f9-4eaf-be49-5d9b195feb8f",
   "metadata": {},
   "outputs": [
    {
     "data": {
      "text/plain": [
       "Index(['id', 'text', 'example_very_unclear', 'admiration', 'amusement',\n",
       "       'anger', 'annoyance', 'approval', 'caring', 'confusion', 'curiosity',\n",
       "       'desire', 'disappointment', 'disapproval', 'disgust', 'embarrassment',\n",
       "       'excitement', 'fear', 'gratitude', 'grief', 'joy', 'love',\n",
       "       'nervousness', 'optimism', 'pride', 'realization', 'relief', 'remorse',\n",
       "       'sadness', 'surprise', 'neutral'],\n",
       "      dtype='object')"
      ]
     },
     "execution_count": 2,
     "metadata": {},
     "output_type": "execute_result"
    }
   ],
   "source": [
    "df.columns"
   ]
  },
  {
   "cell_type": "code",
   "execution_count": 3,
   "id": "a397d23f-ec71-4948-b672-3c0eeafefe44",
   "metadata": {},
   "outputs": [
    {
     "data": {
      "text/html": [
       "<div>\n",
       "<style scoped>\n",
       "    .dataframe tbody tr th:only-of-type {\n",
       "        vertical-align: middle;\n",
       "    }\n",
       "\n",
       "    .dataframe tbody tr th {\n",
       "        vertical-align: top;\n",
       "    }\n",
       "\n",
       "    .dataframe thead th {\n",
       "        text-align: right;\n",
       "    }\n",
       "</style>\n",
       "<table border=\"1\" class=\"dataframe\">\n",
       "  <thead>\n",
       "    <tr style=\"text-align: right;\">\n",
       "      <th></th>\n",
       "      <th>text</th>\n",
       "      <th>emotions</th>\n",
       "    </tr>\n",
       "  </thead>\n",
       "  <tbody>\n",
       "    <tr>\n",
       "      <th>0</th>\n",
       "      <td>That game hurt.</td>\n",
       "      <td>[sadness]</td>\n",
       "    </tr>\n",
       "    <tr>\n",
       "      <th>1</th>\n",
       "      <td>&gt;sexuality shouldn’t be a grouping category I...</td>\n",
       "      <td>[]</td>\n",
       "    </tr>\n",
       "    <tr>\n",
       "      <th>2</th>\n",
       "      <td>You do right, if you don't care then fuck 'em!</td>\n",
       "      <td>[neutral]</td>\n",
       "    </tr>\n",
       "    <tr>\n",
       "      <th>3</th>\n",
       "      <td>Man I love reddit.</td>\n",
       "      <td>[love]</td>\n",
       "    </tr>\n",
       "    <tr>\n",
       "      <th>4</th>\n",
       "      <td>[NAME] was nowhere near them, he was by the Fa...</td>\n",
       "      <td>[neutral]</td>\n",
       "    </tr>\n",
       "  </tbody>\n",
       "</table>\n",
       "</div>"
      ],
      "text/plain": [
       "                                                text   emotions\n",
       "0                                    That game hurt.  [sadness]\n",
       "1   >sexuality shouldn’t be a grouping category I...         []\n",
       "2     You do right, if you don't care then fuck 'em!  [neutral]\n",
       "3                                 Man I love reddit.     [love]\n",
       "4  [NAME] was nowhere near them, he was by the Fa...  [neutral]"
      ]
     },
     "execution_count": 3,
     "metadata": {},
     "output_type": "execute_result"
    }
   ],
   "source": [
    "# 1. Define the emotion label columns\n",
    "emotion_labels = df.columns[3:]  # all columns after 'example_very_unclear'\n",
    "\n",
    "# 2. Create a new column with a list of emotions for each row\n",
    "def get_emotions(row):\n",
    "    return [emotion for emotion in emotion_labels if row[emotion] == 1]\n",
    "\n",
    "df[\"emotions\"] = df.apply(get_emotions, axis=1)\n",
    "\n",
    "# 3. Show the new structure\n",
    "df[['text', 'emotions']].head()"
   ]
  },
  {
   "cell_type": "code",
   "execution_count": 4,
   "id": "a7400586-51b7-41e6-bd50-d206742f430c",
   "metadata": {},
   "outputs": [],
   "source": [
    "# Sample 1000 rows from original df for quick training\n",
    "sampled_df = df.sample(n=1000, random_state=42).reset_index(drop=True)"
   ]
  },
  {
   "cell_type": "code",
   "execution_count": 6,
   "id": "14f5ed6f-c8bf-4045-ba57-36954cae820c",
   "metadata": {},
   "outputs": [
    {
     "name": "stderr",
     "output_type": "stream",
     "text": [
      "Some weights of DistilBertForSequenceClassification were not initialized from the model checkpoint at distilbert-base-uncased and are newly initialized: ['classifier.bias', 'classifier.weight', 'pre_classifier.bias', 'pre_classifier.weight']\n",
      "You should probably TRAIN this model on a down-stream task to be able to use it for predictions and inference.\n"
     ]
    }
   ],
   "source": [
    "from transformers import DistilBertTokenizer\n",
    "import torch\n",
    "from sklearn.model_selection import train_test_split\n",
    "from torch.utils.data import Dataset\n",
    "from transformers import DistilBertForSequenceClassification\n",
    "\n",
    "# Load DistilBERT tokenizer\n",
    "tokenizer = DistilBertTokenizer.from_pretrained('distilbert-base-uncased')\n",
    "\n",
    "# Encode the texts from sampled_df\n",
    "encodings = tokenizer(\n",
    "    list(sampled_df['text']), \n",
    "    truncation=True, \n",
    "    padding=True, \n",
    "    max_length=128, \n",
    "    return_tensors='pt'\n",
    ")\n",
    "\n",
    "# Convert only sampled_df emotion columns to tensor\n",
    "labels = torch.tensor(sampled_df[emotion_labels].values).float()\n",
    "\n",
    "# Split sampled_df into train and validation sets\n",
    "train_idx, val_idx = train_test_split(range(len(sampled_df)), test_size=0.2, random_state=42)\n",
    "\n",
    "train_encodings = {key: val[train_idx] for key, val in encodings.items()}\n",
    "val_encodings = {key: val[val_idx] for key, val in encodings.items()}\n",
    "\n",
    "train_labels = labels[train_idx]\n",
    "val_labels = labels[val_idx]\n",
    "\n",
    "# Define custom dataset class\n",
    "class GoEmotionsDataset(Dataset):\n",
    "    def __init__(self, encodings, labels):\n",
    "        self.encodings = encodings\n",
    "        self.labels = labels\n",
    "\n",
    "    def __len__(self):\n",
    "        return len(self.labels)\n",
    "\n",
    "    def __getitem__(self, idx):\n",
    "        item = {key: val[idx] for key, val in self.encodings.items()}\n",
    "        item['labels'] = self.labels[idx]\n",
    "        return item\n",
    "\n",
    "# Create datasets\n",
    "train_dataset = GoEmotionsDataset(train_encodings, train_labels)\n",
    "val_dataset = GoEmotionsDataset(val_encodings, val_labels)\n",
    "\n",
    "# Load model for multi-label classification\n",
    "num_labels = len(emotion_labels)\n",
    "model = DistilBertForSequenceClassification.from_pretrained(\n",
    "    'distilbert-base-uncased',\n",
    "    num_labels=num_labels,\n",
    "    problem_type=\"multi_label_classification\"\n",
    ")\n"
   ]
  },
  {
   "cell_type": "code",
   "execution_count": 7,
   "id": "005d02f3-02be-4f1c-94e0-61c0acbb434d",
   "metadata": {},
   "outputs": [],
   "source": [
    "import numpy as np\n",
    "from sklearn.metrics import f1_score, accuracy_score\n",
    "\n",
    "def compute_metrics(pred):\n",
    "    logits, labels = pred\n",
    "    probs = torch.sigmoid(torch.tensor(logits))  # apply sigmoid to logits\n",
    "    preds = (probs > 0.5).int().numpy()  # threshold to get binary predictions\n",
    "    labels = labels.astype(int)\n",
    "\n",
    "    f1 = f1_score(labels, preds, average='micro')\n",
    "    acc = accuracy_score(labels, preds)\n",
    "    return {'f1': f1, 'accuracy': acc}\n"
   ]
  },
  {
   "cell_type": "code",
   "execution_count": 8,
   "id": "3f1e522b-8a36-4e98-9186-603a91b86832",
   "metadata": {},
   "outputs": [
    {
     "name": "stderr",
     "output_type": "stream",
     "text": [
      "C:\\Users\\echur\\AppData\\Local\\Packages\\PythonSoftwareFoundation.Python.3.11_qbz5n2kfra8p0\\LocalCache\\local-packages\\Python311\\site-packages\\transformers\\training_args.py:1611: FutureWarning: `evaluation_strategy` is deprecated and will be removed in version 4.46 of 🤗 Transformers. Use `eval_strategy` instead\n",
      "  warnings.warn(\n"
     ]
    }
   ],
   "source": [
    "from transformers import TrainingArguments\n",
    "\n",
    "training_args = TrainingArguments(\n",
    "    output_dir='./results',\n",
    "    num_train_epochs=3,\n",
    "    per_device_train_batch_size=8,\n",
    "    per_device_eval_batch_size=8,\n",
    "    evaluation_strategy='epoch',\n",
    "    save_strategy='epoch',\n",
    "    logging_dir='./logs',\n",
    "    logging_steps=50,\n",
    "    load_best_model_at_end=True,\n",
    ")\n"
   ]
  },
  {
   "cell_type": "code",
   "execution_count": 9,
   "id": "89382f94-77a0-4d96-ae20-2689b3864228",
   "metadata": {},
   "outputs": [],
   "source": [
    "from sklearn.metrics import f1_score, accuracy_score\n",
    "import numpy as np\n",
    "\n",
    "def compute_metrics(pred):\n",
    "    logits, labels = pred\n",
    "    probs = torch.sigmoid(torch.tensor(logits)).numpy()\n",
    "    preds = (probs > 0.5).astype(int)\n",
    "\n",
    "    f1 = f1_score(labels, preds, average=\"micro\")\n",
    "    acc = accuracy_score(labels, preds)\n",
    "    \n",
    "    return {\n",
    "        'accuracy': acc,\n",
    "        'f1': f1,\n",
    "    }\n"
   ]
  },
  {
   "cell_type": "code",
   "execution_count": 10,
   "id": "153581d1-5604-4837-a46f-2b45cc666ad1",
   "metadata": {},
   "outputs": [
    {
     "name": "stderr",
     "output_type": "stream",
     "text": [
      "C:\\Users\\echur\\AppData\\Local\\Temp\\ipykernel_33956\\2385693975.py:2: FutureWarning: `tokenizer` is deprecated and will be removed in version 5.0.0 for `Trainer.__init__`. Use `processing_class` instead.\n",
      "  trainer = Trainer(\n"
     ]
    },
    {
     "data": {
      "text/html": [
       "\n",
       "    <div>\n",
       "      \n",
       "      <progress value='300' max='300' style='width:300px; height:20px; vertical-align: middle;'></progress>\n",
       "      [300/300 03:49, Epoch 3/3]\n",
       "    </div>\n",
       "    <table border=\"1\" class=\"dataframe\">\n",
       "  <thead>\n",
       " <tr style=\"text-align: left;\">\n",
       "      <th>Epoch</th>\n",
       "      <th>Training Loss</th>\n",
       "      <th>Validation Loss</th>\n",
       "      <th>Accuracy</th>\n",
       "      <th>F1</th>\n",
       "    </tr>\n",
       "  </thead>\n",
       "  <tbody>\n",
       "    <tr>\n",
       "      <td>1</td>\n",
       "      <td>0.172000</td>\n",
       "      <td>0.160854</td>\n",
       "      <td>0.035000</td>\n",
       "      <td>0.000000</td>\n",
       "    </tr>\n",
       "    <tr>\n",
       "      <td>2</td>\n",
       "      <td>0.161100</td>\n",
       "      <td>0.158611</td>\n",
       "      <td>0.035000</td>\n",
       "      <td>0.000000</td>\n",
       "    </tr>\n",
       "    <tr>\n",
       "      <td>3</td>\n",
       "      <td>0.158000</td>\n",
       "      <td>0.158418</td>\n",
       "      <td>0.035000</td>\n",
       "      <td>0.000000</td>\n",
       "    </tr>\n",
       "  </tbody>\n",
       "</table><p>"
      ],
      "text/plain": [
       "<IPython.core.display.HTML object>"
      ]
     },
     "metadata": {},
     "output_type": "display_data"
    },
    {
     "data": {
      "text/plain": [
       "TrainOutput(global_step=300, training_loss=0.19705010414123536, metrics={'train_runtime': 230.5602, 'train_samples_per_second': 10.409, 'train_steps_per_second': 1.301, 'total_flos': 26091611481600.0, 'train_loss': 0.19705010414123536, 'epoch': 3.0})"
      ]
     },
     "execution_count": 10,
     "metadata": {},
     "output_type": "execute_result"
    }
   ],
   "source": [
    "from transformers import Trainer, TrainingArguments\n",
    "trainer = Trainer(\n",
    "    model=model,\n",
    "    args=training_args,\n",
    "    train_dataset=train_dataset,   # your tokenized training data\n",
    "    eval_dataset=val_dataset,     # your tokenized validation data\n",
    "    tokenizer=tokenizer,\n",
    "    compute_metrics=compute_metrics  # optional for evaluating during training\n",
    ")\n",
    "\n",
    "trainer.train()"
   ]
  },
  {
   "cell_type": "code",
   "execution_count": 11,
   "id": "9467f54c-9dfc-414d-864e-7dca683fe157",
   "metadata": {},
   "outputs": [],
   "source": [
    "trainer.save_model(\"./emotion-aware-distilbert\")"
   ]
  },
  {
   "cell_type": "code",
   "execution_count": 12,
   "id": "3a1a1630-8cfb-4b46-a1d0-0109b147940b",
   "metadata": {},
   "outputs": [
    {
     "data": {
      "text/html": [
       "\n",
       "    <div>\n",
       "      \n",
       "      <progress value='25' max='25' style='width:300px; height:20px; vertical-align: middle;'></progress>\n",
       "      [25/25 00:02]\n",
       "    </div>\n",
       "    "
      ],
      "text/plain": [
       "<IPython.core.display.HTML object>"
      ]
     },
     "metadata": {},
     "output_type": "display_data"
    },
    {
     "name": "stdout",
     "output_type": "stream",
     "text": [
      "Evaluation Results:\n",
      "{'eval_loss': 0.15841835737228394, 'eval_accuracy': 0.035, 'eval_f1': 0.0, 'eval_runtime': 2.6222, 'eval_samples_per_second': 76.271, 'eval_steps_per_second': 9.534, 'epoch': 3.0}\n"
     ]
    }
   ],
   "source": [
    "eval_results = trainer.evaluate()\n",
    "print(\"Evaluation Results:\")\n",
    "print(eval_results)"
   ]
  },
  {
   "cell_type": "code",
   "execution_count": 13,
   "id": "5ef05f08-3f6d-45e0-9837-a299674894e8",
   "metadata": {},
   "outputs": [
    {
     "data": {
      "text/plain": [
       "('./emotion-aware-distilbert\\\\tokenizer_config.json',\n",
       " './emotion-aware-distilbert\\\\special_tokens_map.json',\n",
       " './emotion-aware-distilbert\\\\vocab.txt',\n",
       " './emotion-aware-distilbert\\\\added_tokens.json')"
      ]
     },
     "execution_count": 13,
     "metadata": {},
     "output_type": "execute_result"
    }
   ],
   "source": [
    "# Save model\n",
    "trainer.save_model(\"./emotion-aware-distilbert\")\n",
    "\n",
    "# Save tokenizer\n",
    "tokenizer.save_pretrained(\"./emotion-aware-distilbert\")\n"
   ]
  },
  {
   "cell_type": "code",
   "execution_count": 14,
   "id": "576e2aec-4d7b-47f1-8d9d-1d7a5a286247",
   "metadata": {},
   "outputs": [
    {
     "name": "stderr",
     "output_type": "stream",
     "text": [
      "Device set to use cpu\n"
     ]
    },
    {
     "name": "stdout",
     "output_type": "stream",
     "text": [
      "admiration: 0.0944\n",
      "amusement: 0.0401\n",
      "anger: 0.0388\n",
      "annoyance: 0.0623\n",
      "approval: 0.0889\n",
      "caring: 0.0294\n",
      "confusion: 0.0246\n",
      "curiosity: 0.0450\n",
      "desire: 0.0237\n",
      "disappointment: 0.0347\n",
      "disapproval: 0.0480\n",
      "disgust: 0.0169\n",
      "embarrassment: 0.0130\n",
      "excitement: 0.0294\n",
      "fear: 0.0126\n",
      "gratitude: 0.0448\n",
      "grief: 0.0118\n",
      "joy: 0.0407\n",
      "love: 0.0505\n",
      "nervousness: 0.0152\n",
      "optimism: 0.0374\n",
      "pride: 0.0078\n",
      "realization: 0.0388\n",
      "relief: 0.0092\n",
      "remorse: 0.0148\n",
      "sadness: 0.0282\n",
      "surprise: 0.0254\n",
      "neutral: 0.2491\n"
     ]
    },
    {
     "name": "stderr",
     "output_type": "stream",
     "text": [
      "C:\\Users\\echur\\AppData\\Local\\Packages\\PythonSoftwareFoundation.Python.3.11_qbz5n2kfra8p0\\LocalCache\\local-packages\\Python311\\site-packages\\transformers\\pipelines\\text_classification.py:106: UserWarning: `return_all_scores` is now deprecated,  if want a similar functionality use `top_k=None` instead of `return_all_scores=True` or `top_k=1` instead of `return_all_scores=False`.\n",
      "  warnings.warn(\n"
     ]
    }
   ],
   "source": [
    "from transformers import pipeline\n",
    "\n",
    "# Load the model and tokenizer from saved directory\n",
    "emotion_pipeline = pipeline(\"text-classification\", \n",
    "                            model=\"./emotion-aware-distilbert\", \n",
    "                            tokenizer=\"./emotion-aware-distilbert\", \n",
    "                            return_all_scores=True)\n",
    "\n",
    "# Predict on a new sentence\n",
    "text = \"I am feeling really happy and excited today!\"\n",
    "predictions = emotion_pipeline(text)\n",
    "\n",
    "# Display results\n",
    "for emotion, score in zip(emotion_labels, predictions[0]):\n",
    "    print(f\"{emotion}: {score['score']:.4f}\")\n"
   ]
  },
  {
   "cell_type": "code",
   "execution_count": 5,
   "id": "791ee595-ce7b-44d9-9403-0518b19c8909",
   "metadata": {},
   "outputs": [],
   "source": [
    "emotion_labels = df.columns[3:]"
   ]
  },
  {
   "cell_type": "code",
   "execution_count": 6,
   "id": "6a004c77-b15b-40e7-aaeb-4fa353efdc4f",
   "metadata": {},
   "outputs": [
    {
     "name": "stderr",
     "output_type": "stream",
     "text": [
      "Device set to use cpu\n",
      "C:\\Users\\echur\\AppData\\Local\\Packages\\PythonSoftwareFoundation.Python.3.11_qbz5n2kfra8p0\\LocalCache\\local-packages\\Python311\\site-packages\\transformers\\pipelines\\text_classification.py:106: UserWarning: `return_all_scores` is now deprecated,  if want a similar functionality use `top_k=None` instead of `return_all_scores=True` or `top_k=1` instead of `return_all_scores=False`.\n",
      "  warnings.warn(\n"
     ]
    },
    {
     "name": "stdout",
     "output_type": "stream",
     "text": [
      "admiration: 0.0922\n",
      "amusement: 0.0406\n",
      "anger: 0.0384\n",
      "annoyance: 0.0643\n",
      "approval: 0.0907\n",
      "caring: 0.0300\n",
      "confusion: 0.0254\n",
      "curiosity: 0.0447\n",
      "desire: 0.0240\n",
      "disappointment: 0.0347\n",
      "disapproval: 0.0503\n",
      "disgust: 0.0174\n",
      "embarrassment: 0.0132\n",
      "excitement: 0.0300\n",
      "fear: 0.0126\n",
      "gratitude: 0.0463\n",
      "grief: 0.0122\n",
      "joy: 0.0416\n",
      "love: 0.0488\n",
      "nervousness: 0.0160\n",
      "optimism: 0.0387\n",
      "pride: 0.0080\n",
      "realization: 0.0411\n",
      "relief: 0.0093\n",
      "remorse: 0.0155\n",
      "sadness: 0.0283\n",
      "surprise: 0.0260\n",
      "neutral: 0.2521\n"
     ]
    }
   ],
   "source": [
    "from transformers import pipeline\n",
    "\n",
    "# Load the model and tokenizer from saved directory\n",
    "emotion_pipeline = pipeline(\"text-classification\", \n",
    "                            model=\"./emotion-aware-distilbert\", \n",
    "                            tokenizer=\"./emotion-aware-distilbert\", \n",
    "                            return_all_scores=True)\n",
    "\n",
    "# Predict on a new sentence\n",
    "text = \"It’s been such a rollercoaster week. On Monday, I was full of energy, thrilled to start my new project at work — it felt like everything was finally falling into place. But by midweek, I started doubting myself. The pressure, the deadlines, the constant comparison to others... it all got overwhelming. I even cried a bit on Thursday night because I felt like I wasn’t good enough. Still, today, something shifted. A close friend reminded me how far I’ve come, and their words sparked something inside me — a sense of hope, love, and determination. I’m not giving up. I’m learning, growing, and I believe that something wonderful is coming.\"\n",
    "predictions = emotion_pipeline(text)\n",
    "\n",
    "# Display results\n",
    "for emotion, score in zip(emotion_labels, predictions[0]):\n",
    "    print(f\"{emotion}: {score['score']:.4f}\")\n"
   ]
  },
  {
   "cell_type": "code",
   "execution_count": 7,
   "id": "19fdf2a4-eb93-436f-abc5-3bc3a7831c3d",
   "metadata": {},
   "outputs": [
    {
     "name": "stderr",
     "output_type": "stream",
     "text": [
      "Device set to use cpu\n"
     ]
    },
    {
     "name": "stdout",
     "output_type": "stream",
     "text": [
      "admiration: 0.0948\n",
      "amusement: 0.0396\n",
      "anger: 0.0392\n",
      "annoyance: 0.0609\n",
      "approval: 0.0880\n",
      "caring: 0.0289\n",
      "confusion: 0.0247\n",
      "curiosity: 0.0449\n",
      "desire: 0.0236\n",
      "disappointment: 0.0348\n",
      "disapproval: 0.0476\n",
      "disgust: 0.0168\n",
      "embarrassment: 0.0127\n",
      "excitement: 0.0295\n",
      "fear: 0.0128\n",
      "gratitude: 0.0448\n",
      "grief: 0.0118\n",
      "joy: 0.0402\n",
      "love: 0.0508\n",
      "nervousness: 0.0153\n",
      "optimism: 0.0378\n",
      "pride: 0.0078\n",
      "realization: 0.0383\n",
      "relief: 0.0092\n",
      "remorse: 0.0149\n",
      "sadness: 0.0285\n",
      "surprise: 0.0251\n",
      "neutral: 0.2525\n"
     ]
    }
   ],
   "source": [
    "from transformers import pipeline\n",
    "\n",
    "# Load the model and tokenizer from saved directory\n",
    "emotion_pipeline = pipeline(\"text-classification\", \n",
    "                            model=\"./emotion-aware-distilbert\", \n",
    "                            tokenizer=\"./emotion-aware-distilbert\", \n",
    "                            return_all_scores=True)\n",
    "\n",
    "# Predict on a new sentence\n",
    "text = \"i was so sad\"\n",
    "predictions = emotion_pipeline(text)\n",
    "\n",
    "# Display results\n",
    "for emotion, score in zip(emotion_labels, predictions[0]):\n",
    "    print(f\"{emotion}: {score['score']:.4f}\")\n"
   ]
  },
  {
   "cell_type": "code",
   "execution_count": null,
   "id": "a292da12-0009-434e-aa8b-d6912694a532",
   "metadata": {},
   "outputs": [],
   "source": []
  }
 ],
 "metadata": {
  "kernelspec": {
   "display_name": "Python 3 (ipykernel)",
   "language": "python",
   "name": "python3"
  },
  "language_info": {
   "codemirror_mode": {
    "name": "ipython",
    "version": 3
   },
   "file_extension": ".py",
   "mimetype": "text/x-python",
   "name": "python",
   "nbconvert_exporter": "python",
   "pygments_lexer": "ipython3",
   "version": "3.11.9"
  }
 },
 "nbformat": 4,
 "nbformat_minor": 5
}
